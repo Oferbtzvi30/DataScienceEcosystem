{
 "cells": [
  {
   "cell_type": "markdown",
   "id": "e1589f86-5c0f-49d7-8602-3ed5ed3ecbae",
   "metadata": {},
   "source": [
    "# Data Science Tools and Ecosystem"
   ]
  },
  {
   "cell_type": "markdown",
   "id": "9a5ac882-52f9-4011-bfdd-18289276e2ee",
   "metadata": {},
   "source": [
    "In this notebook, Data Science Tools and Ecosystem are summarized."
   ]
  },
  {
   "cell_type": "markdown",
   "id": "9298296f-d649-46d9-b3af-074501b4ecc4",
   "metadata": {},
   "source": [
    "Some of the popular languages that Data Scientists use are:\n",
    "1. Python\n",
    "2. SQL\n",
    "3. R\n",
    "4. Julia"
   ]
  },
  {
   "cell_type": "markdown",
   "id": "4c01d58f-e6d1-40b6-b79c-9b51d241ffa6",
   "metadata": {},
   "source": [
    "Some of the commonly used libraries used by Data Scientists include:\n",
    "1. Pandas\n",
    "2. NumPy\n",
    "3. Matplotlib\n",
    "4. Scikit-learn"
   ]
  },
  {
   "cell_type": "markdown",
   "id": "20045f04-1400-4072-bde7-dea896334f99",
   "metadata": {},
   "source": [
    "| Data Science Tools |\n",
    "|--------------------|\n",
    "| Jupyter Notebook   |\n",
    "| RStudio            |\n",
    "| Apache Zeppelin    |"
   ]
  },
  {
   "cell_type": "markdown",
   "id": "b77359e7-fae8-4719-b155-db09e042ebea",
   "metadata": {},
   "source": [
    "Below are few examples of evaluating arithmetic expressions in Python."
   ]
  },
  {
   "cell_type": "code",
   "execution_count": 2,
   "id": "bb04ee6f-74dd-4237-9ac7-db81f3eed628",
   "metadata": {},
   "outputs": [
    {
     "data": {
      "text/plain": [
       "46"
      ]
     },
     "execution_count": 2,
     "metadata": {},
     "output_type": "execute_result"
    }
   ],
   "source": [
    "(3*12)+10"
   ]
  },
  {
   "cell_type": "code",
   "execution_count": 4,
   "id": "709c804c-d345-4601-b10a-a0abd6421ff5",
   "metadata": {},
   "outputs": [
    {
     "data": {
      "text/plain": [
       "60.0"
      ]
     },
     "execution_count": 4,
     "metadata": {},
     "output_type": "execute_result"
    }
   ],
   "source": [
    "3600 / 60"
   ]
  },
  {
   "cell_type": "markdown",
   "id": "80f0ceff-8e35-4ec4-a4c2-24457f39bf34",
   "metadata": {},
   "source": [
    "**Objectives:**\n",
    "- List popular languages for Data Science\n",
    "- Identify commonly used libraries in Data Science\n",
    "- Create and use markdown cells in a Jupyter Notebook\n",
    "- Perform arithmetic operations using code cells\n",
    "- Share notebooks using GitHub"
   ]
  },
  {
   "cell_type": "markdown",
   "id": "f7d42697-a262-4a1a-8386-e7a503b63924",
   "metadata": {},
   "source": [
    "Author"
   ]
  },
  {
   "cell_type": "markdown",
   "id": "f017a4aa-1977-4508-9c5c-84816a7e4f64",
   "metadata": {},
   "source": [
    "Ofer Ben Tzvi"
   ]
  }
 ],
 "metadata": {
  "kernelspec": {
   "display_name": "Python [conda env:base] *",
   "language": "python",
   "name": "conda-base-py"
  },
  "language_info": {
   "codemirror_mode": {
    "name": "ipython",
    "version": 3
   },
   "file_extension": ".py",
   "mimetype": "text/x-python",
   "name": "python",
   "nbconvert_exporter": "python",
   "pygments_lexer": "ipython3",
   "version": "3.13.5"
  }
 },
 "nbformat": 4,
 "nbformat_minor": 5
}
